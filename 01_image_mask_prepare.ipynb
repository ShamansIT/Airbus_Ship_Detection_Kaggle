{
 "cells": [
  {
   "cell_type": "code",
   "execution_count": 2,
   "metadata": {},
   "outputs": [],
   "source": [
    "import numpy as np\n",
    "import os\n",
    "from skimage.io import imread, imsave\n",
    "from skimage.draw import rectangle\n",
    "from path_to_folders import images_path, labels_path, masks_path"
   ]
  },
  {
   "cell_type": "markdown",
   "metadata": {},
   "source": [
    "### Create mask function"
   ]
  },
  {
   "cell_type": "code",
   "execution_count": 46,
   "metadata": {},
   "outputs": [],
   "source": [
    "def create_mask(image_shape, labels):\n",
    "    #Create mask of zero\n",
    "    mask = np.zeros(image_shape[:2], dtype = np.uint8)\n",
    "\n",
    "    height, width = image_shape[:2]\n",
    "    for label in labels:\n",
    "        _, x_center, y_center, width_norm, heighr_norm = map(float, label.split())\n",
    "\n",
    "        box_width = int(width_norm * width)\n",
    "        box_height = int(heighr_norm * height)\n",
    "\n",
    "        x_center_abs = int(x_center * width)\n",
    "        y_center_abs = int(y_center * height)\n",
    "\n",
    "        top_left_x = max(0, int(x_center_abs - box_width / 2))\n",
    "        top_left_y = max(0, int(y_center_abs - box_height / 2))\n",
    "        bottom_right_x = min(width, int(x_center_abs + box_width / 2))\n",
    "        bottom_right_y = min(height, int(y_center_abs + box_height / 2))\n",
    "\n",
    "        rr, cc = rectangle(start=(top_left_y, top_left_x), extent=(bottom_right_y - top_left_y, bottom_right_x - top_left_x), shape=image_shape[:2])\n",
    "        mask[rr,cc] = 1 # Set the pixels in the rectangle to 1\n",
    "\n",
    "    return mask"
   ]
  },
  {
   "cell_type": "markdown",
   "metadata": {},
   "source": [
    "### Function check file in folders and return count files that match"
   ]
  },
  {
   "cell_type": "code",
   "execution_count": 47,
   "metadata": {},
   "outputs": [],
   "source": [
    "def count_matching_filenames(images_folder, labels_folder):\n",
    "    # Get a list of filenames without extensions for each folder\n",
    "    images_file = {os.path.splitext(file)[0] for file in os.listdir(images_folder)}\n",
    "    label_file = {os.path.splitext(file)[0] for file in os.listdir(labels_folder)}\n",
    "\n",
    "    # Finding the intersection between two sets\n",
    "    matching_files = images_file.intersection(label_file)\n",
    "    \n",
    "    return len(matching_files)\n"
   ]
  },
  {
   "cell_type": "code",
   "execution_count": 48,
   "metadata": {},
   "outputs": [],
   "source": [
    "def process_images(images_folder, labels_folder, masks_folder, image_type, label_type): \n",
    "    \n",
    "    for i in range(count_matching_filenames(images_folder, labels_folder)):\n",
    "        img_path = os.path.join(images_folder, f'{i}.{image_type}')\n",
    "        lbl_path = os.path.join(labels_folder, f'{i}.{label_type}')\n",
    "\n",
    "        if os.path.exists(img_path) and os.path.exists(lbl_path):\n",
    "            image = imread(img_path)\n",
    "            with open(lbl_path, 'r') as file:\n",
    "                labels = file.readlines()\n",
    "            \n",
    "            mask = create_mask(image.shape, labels)\n",
    "            output_folder = os.path.join(masks_folder, f'{i}_mask.png')\n",
    "            imsave(output_folder, mask)\n",
    "\n",
    "    # Create the source folder if it does not exist\n",
    "    if not os.path.exists(masks_folder):\n",
    "        os.makedirs(output_folder)"
   ]
  },
  {
   "cell_type": "markdown",
   "metadata": {},
   "source": [
    "### Process images function"
   ]
  },
  {
   "cell_type": "code",
   "execution_count": null,
   "metadata": {},
   "outputs": [],
   "source": [
    "# Image processing\n",
    "process_images(images_path, labels_path, masks_path, 'jpg', 'txt')"
   ]
  }
 ],
 "metadata": {
  "kernelspec": {
   "display_name": "base",
   "language": "python",
   "name": "python3"
  },
  "language_info": {
   "codemirror_mode": {
    "name": "ipython",
    "version": 3
   },
   "file_extension": ".py",
   "mimetype": "text/x-python",
   "name": "python",
   "nbconvert_exporter": "python",
   "pygments_lexer": "ipython3",
   "version": "3.11.5"
  }
 },
 "nbformat": 4,
 "nbformat_minor": 2
}
