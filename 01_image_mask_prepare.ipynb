{
 "cells": [
  {
   "cell_type": "code",
   "execution_count": 1,
   "metadata": {},
   "outputs": [],
   "source": [
    "import numpy as np\n",
    "import os\n",
    "from skimage.io import imread, imsave\n",
    "from skimage.draw import rectangle"
   ]
  },
  {
   "cell_type": "markdown",
   "metadata": {},
   "source": [
    "### Path to folders image, labels and output result files\n"
   ]
  },
  {
   "cell_type": "code",
   "execution_count": 8,
   "metadata": {},
   "outputs": [],
   "source": [
    "image_path = 'D:\\IT\\Python\\Ship_Detection\\Airbus_Ship_Detection_Kaggle\\Resource\\Train\\images\\\\'\n",
    "label_path = 'D:\\IT\\Python\\Ship_Detection\\Airbus_Ship_Detection_Kaggle\\Resource\\Train\\labels\\\\'\n",
    "output_path = 'D:\\IT\\Python\\Ship_Detection\\Airbus_Ship_Detection_Kaggle\\Resource\\Train\\outputs\\\\'"
   ]
  },
  {
   "cell_type": "markdown",
   "metadata": {},
   "source": [
    "### Create mask function"
   ]
  },
  {
   "cell_type": "code",
   "execution_count": 6,
   "metadata": {},
   "outputs": [],
   "source": [
    "def create_mask(image_shape, labels):\n",
    "    #Create mask of zero\n",
    "    mask = np.zeros(image_shape[:2], dtype = np.uint8)\n",
    "\n",
    "    height, width = image_shape[:2]\n",
    "    for label in labels:\n",
    "        x_center, y_center, width_norm, heighr_norm = map(float, label.split())\n",
    "\n",
    "        box_width = int(width_norm * width)\n",
    "        box_height = int(heighr_norm * height)\n",
    "\n",
    "        x_center_abs = int(x_center * width)\n",
    "        y_center_abs = int(y_center * height)\n",
    "\n",
    "        top_left_x = max(0, int(x_center_abs - box_width / 2))\n",
    "        top_left_y = max(0, int(y_center_abs - box_height / 2))\n",
    "        bottom_right_x = min(width, int(x_center_abs + box_width / 2))\n",
    "        bottom_right_y = min(height, int(y_center_abs + box_height / 2))\n",
    "\n",
    "        rr, cc = rectangle(start=(top_left_y, top_left_x), extent=(bottom_right_y - top_left_y, bottom_right_x - top_left_x), shape=image_shape[:2])\n",
    "        mask[rr,cc] = 1 # Set the pixels in the rectangle to 1\n",
    "\n",
    "    return mask"
   ]
  },
  {
   "cell_type": "markdown",
   "metadata": {},
   "source": [
    "### Function check file in folders and return count files that match"
   ]
  },
  {
   "cell_type": "code",
   "execution_count": 9,
   "metadata": {},
   "outputs": [],
   "source": [
    "def count_matching_filenames(image_folder, label_folder):\n",
    "    # Get a list of filenames without extensions for each folder\n",
    "    images_file = {os.path.splitext(file)[0] for file in os.listdir(image_path)}\n",
    "    label_file = {os.path.splitext(file)[0] for file in os.listdir(label_path)}\n",
    "\n",
    "    # Finding the intersection between two sets\n",
    "    matching_files = images_file.intersection(label_file)\n",
    "    \n",
    "    return len(matching_files)\n"
   ]
  },
  {
   "cell_type": "markdown",
   "metadata": {},
   "source": [
    "### Process images function"
   ]
  },
  {
   "cell_type": "code",
   "execution_count": null,
   "metadata": {},
   "outputs": [],
   "source": [
    "def process_images(images_folders, lebel_folders, output_folders): \n",
    "    pass\n",
    "    for i in range(count_matching_filenames(image_folder, image_folder)):\n",
    "        image_path = os.path.join(image_folder)"
   ]
  }
 ],
 "metadata": {
  "kernelspec": {
   "display_name": "base",
   "language": "python",
   "name": "python3"
  },
  "language_info": {
   "codemirror_mode": {
    "name": "ipython",
    "version": 3
   },
   "file_extension": ".py",
   "mimetype": "text/x-python",
   "name": "python",
   "nbconvert_exporter": "python",
   "pygments_lexer": "ipython3",
   "version": "3.11.5"
  }
 },
 "nbformat": 4,
 "nbformat_minor": 2
}
