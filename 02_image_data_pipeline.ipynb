{
 "cells": [
  {
   "cell_type": "code",
   "execution_count": 2,
   "metadata": {},
   "outputs": [],
   "source": [
    "from path_to_folders import images_path, labels_path, masks_path\n",
    "import tensorflow as tf\n"
   ]
  },
  {
   "cell_type": "markdown",
   "metadata": {},
   "source": [
    "### Define variables"
   ]
  },
  {
   "cell_type": "code",
   "execution_count": 3,
   "metadata": {},
   "outputs": [],
   "source": [
    "CLASSES = 2\n",
    "COLOR_MAP = {\n",
    "    0: 'magenta',\n",
    "    1: 'yellow'\n",
    "}\n",
    "\n",
    "SAMPLE_SIZE = (384, 384)\n",
    "OUTPUT_SIZE = (768, 768)"
   ]
  },
  {
   "cell_type": "markdown",
   "metadata": {},
   "source": [
    "### Function imege load"
   ]
  },
  {
   "cell_type": "code",
   "execution_count": 6,
   "metadata": {},
   "outputs": [],
   "source": [
    "def image_load(image, mask):\n",
    "    # Load, decoder and resize image .jpg\n",
    "    image = tf.io.read_file(image)\n",
    "    image = tf.io.decode_jpeg(image)\n",
    "    image = tf.image.resize(image, OUTPUT_SIZE)\n",
    "\n",
    "    # Convert image data type to float32 and normalizes the pixels to the range [0, 1]\n",
    "    image = tf.image.convert_image_dtype(image, tf.float32)\n",
    "    image = image/ 255.0\n",
    "\n",
    "    # Load, decoder and resize mask .png\n",
    "    mask = tf.io.read_file(mask)\n",
    "    mask = tf.io.decode_png(mask)\n",
    "    # Convert mask to grayscale for it contains one channel\n",
    "    mask = tf.image.rgb_to_grayscale(mask)\n",
    "    mask = tf.image.resize(mask, OUTPUT_SIZE)\n",
    "    mask = tf.image.convert_image_dtype(mask, tf.float32)\n",
    "\n",
    "    masks = []\n",
    "    \n",
    "    # For each class (CLASSES) creates a mask, where 1.0 indicates the presence of the class, and 0.0 - its absence\n",
    "    for i in range(CLASSES):\n",
    "        masks.append(tf.where(tf.equal(mask, float(i)), 1.0, 0.0))\n",
    "\n",
    "    # Combine all class masks into one tensor.\n",
    "    masks = tf.stack(masks, axis=2)\n",
    "    # Change the form of the combined mask tensor to match the output format\n",
    "    masks = tf.reshape(masks, OUTPUT_SIZE+(CLASSES))\n",
    "\n",
    "    return image, masks"
   ]
  },
  {
   "cell_type": "markdown",
   "metadata": {},
   "source": [
    "### Augumintate function"
   ]
  },
  {
   "cell_type": "code",
   "execution_count": 5,
   "metadata": {},
   "outputs": [],
   "source": [
    "def augmentate_images(image, masks):\n",
    "    random_crop = tf.random.uniform((), 0.3, 1)\n",
    "    image = tf.image.central_crop(image, random_crop)\n",
    "    masks = tf.image.central_crop(masks, random_crop)\n",
    "\n",
    "    random_flip = tf.random.uniform((), 0, 1)\n",
    "    if random_flip >=0.5:\n",
    "        image = tf.image.flip_left_right(image)\n",
    "        masks = tf.image.flip_left_right(masks)\n",
    "\n",
    "    image = tf. image.resize(image, SAMPLE_SIZE)\n",
    "    masks = tf. image.resize(masks, SAMPLE_SIZE)\n",
    "\n",
    "    return image, masks\n"
   ]
  }
 ],
 "metadata": {
  "kernelspec": {
   "display_name": "base",
   "language": "python",
   "name": "python3"
  },
  "language_info": {
   "codemirror_mode": {
    "name": "ipython",
    "version": 3
   },
   "file_extension": ".py",
   "mimetype": "text/x-python",
   "name": "python",
   "nbconvert_exporter": "python",
   "pygments_lexer": "ipython3",
   "version": "3.11.5"
  }
 },
 "nbformat": 4,
 "nbformat_minor": 2
}
