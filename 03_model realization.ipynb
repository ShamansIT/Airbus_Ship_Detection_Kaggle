{
 "cells": [
  {
   "cell_type": "code",
   "execution_count": 49,
   "metadata": {},
   "outputs": [],
   "source": [
    "import keras\n",
    "import tensorflow as tf"
   ]
  },
  {
   "cell_type": "markdown",
   "metadata": {},
   "source": [
    "### Variables"
   ]
  },
  {
   "cell_type": "code",
   "execution_count": 41,
   "metadata": {},
   "outputs": [],
   "source": [
    "CLASSES = 2\n",
    "SAMPLE_SIZE = (384, 384)\n",
    "OUTPUT_SIZE = (768, 768)"
   ]
  },
  {
   "cell_type": "markdown",
   "metadata": {},
   "source": [
    "### Define input neural network model"
   ]
  },
  {
   "cell_type": "code",
   "execution_count": 42,
   "metadata": {},
   "outputs": [],
   "source": [
    "def input_layer():\n",
    "    return keras.layers.Input(shape=SAMPLE_SIZE +(3,))"
   ]
  },
  {
   "cell_type": "markdown",
   "metadata": {},
   "source": [
    "### Describe bloks enkoder format"
   ]
  },
  {
   "cell_type": "code",
   "execution_count": 43,
   "metadata": {},
   "outputs": [],
   "source": [
    "def downsample_block(filters, size, batch_norm = True):\n",
    "    initializer = keras.initializers.GlorotNormal()\n",
    "\n",
    "    result = keras.Sequential()\n",
    "    result.add(keras.layers.Conv2D(filters, size, strides = 2, padding = 'same', \n",
    "                                   kernel_initializer=initializer, use_bias=False))\n",
    "    \n",
    "    if batch_norm:\n",
    "        result.add(keras.layers.BatchNormalization())\n",
    "\n",
    "    result.add(keras.layers.LeakyReLU())\n",
    "    \n",
    "    return result"
   ]
  },
  {
   "cell_type": "markdown",
   "metadata": {},
   "source": [
    "### Format decoder block for neural network"
   ]
  },
  {
   "cell_type": "code",
   "execution_count": 44,
   "metadata": {},
   "outputs": [],
   "source": [
    "def upsample_block(filters, size, dropout = False):\n",
    "    initializer = keras.initializers.GlorotNormal()\n",
    "\n",
    "    result = keras.Sequential()\n",
    "    result.add(keras.layers.Conv2DTranspose(filters, size, strides = 2, padding = 'same', \n",
    "                                   kernel_initializer=initializer, use_bias=False))\n",
    "    \n",
    "    result.add(keras.layers.BatchNormalization())\n",
    "\n",
    "    if dropout:\n",
    "        result.add(keras.layers.Dropout(0.25))\n",
    "        \n",
    "    result.add(keras.layers.ReLU())\n",
    "    \n",
    "    return result"
   ]
  },
  {
   "cell_type": "markdown",
   "metadata": {},
   "source": [
    "### Define output neural network model"
   ]
  },
  {
   "cell_type": "code",
   "execution_count": 45,
   "metadata": {},
   "outputs": [],
   "source": [
    "def output_layer(size):\n",
    "    initializer = keras.initializers.GlorotNormal()\n",
    "    return keras.layers.Conv2DTranspose(CLASSES, size, strides=2, padding='same', kernel_initializer=initializer,\n",
    "                                        activation= 'sigmoid')"
   ]
  },
  {
   "cell_type": "markdown",
   "metadata": {},
   "source": [
    "### Create stack layers"
   ]
  },
  {
   "cell_type": "code",
   "execution_count": 46,
   "metadata": {},
   "outputs": [],
   "source": [
    "inp_layer = input_layer()\n",
    "\n",
    "downsample_stack = [\n",
    "    downsample_block(64, 4, batch_norm = False),\n",
    "    downsample_block(128, 4),\n",
    "    downsample_block(256, 4),\n",
    "    downsample_block(512, 4),\n",
    "    downsample_block(512, 4),\n",
    "    downsample_block(512, 4),\n",
    "    downsample_block(512, 4),\n",
    "]\n",
    "\n",
    "upsample_stack = [\n",
    "    upsample_block(512, 4, dropout = True),\n",
    "    upsample_block(512, 4, dropout = True),\n",
    "    upsample_block(512, 4, dropout = True),\n",
    "    upsample_block(256, 4),\n",
    "    upsample_block(128, 4),\n",
    "    upsample_block(64, 4),\n",
    "]\n",
    "\n",
    "out_layer = output_layer(4)"
   ]
  },
  {
   "cell_type": "markdown",
   "metadata": {},
   "source": [
    "### Skip connection realization"
   ]
  },
  {
   "cell_type": "code",
   "execution_count": 47,
   "metadata": {},
   "outputs": [],
   "source": [
    "x = inp_layer\n",
    "\n",
    "downsample_skips = []\n",
    "\n",
    "for block in downsample_stack:\n",
    "    x = block(x)\n",
    "    downsample_skips.append(x)\n",
    "\n",
    "downsample_skips = reversed(downsample_skips[:-1])\n",
    "\n",
    "for up_block, down_block in zip(upsample_stack, downsample_skips):\n",
    "    x = up_block(x)\n",
    "    x = keras.layers.Concatenate()([x, down_block])\n",
    "\n",
    "out_layer = out_layer(x)\n",
    "\n",
    "unet_like = keras.Model(inputs = inp_layer, outputs = out_layer)"
   ]
  },
  {
   "cell_type": "markdown",
   "metadata": {},
   "source": [
    "### Metrics and loss functions"
   ]
  },
  {
   "cell_type": "code",
   "execution_count": 48,
   "metadata": {},
   "outputs": [],
   "source": [
    "def dice_mc_metric(a, b):\n",
    "    a = tf.unstack(a, axis=3)\n",
    "    b = tf.unstack(b, axis=3)\n",
    "    \n",
    "    dice_summ = 0\n",
    "    \n",
    "    for i, (aa, bb) in enumerate(zip(a, b)):\n",
    "        numenator = 2 * tf.math.reduce_sum(aa * bb) + 1\n",
    "        denomerator = tf.math.reduce_sum(aa + bb) + 1\n",
    "        dice_summ += numenator / denomerator\n",
    "        \n",
    "    avg_dice = dice_summ / CLASSES\n",
    "    \n",
    "    return avg_dice\n",
    "\n",
    "def dice_mc_loss(a, b):\n",
    "    return 1 - dice_mc_metric(a, b)\n",
    "\n",
    "def dice_bce_mc_loss(a, b):\n",
    "    return 0.3 * dice_mc_loss(a, b) + tf.keras.losses.binary_crossentropy(a, b)"
   ]
  }
 ],
 "metadata": {
  "kernelspec": {
   "display_name": "TF",
   "language": "python",
   "name": "python3"
  },
  "language_info": {
   "codemirror_mode": {
    "name": "ipython",
    "version": 3
   },
   "file_extension": ".py",
   "mimetype": "text/x-python",
   "name": "python",
   "nbconvert_exporter": "python",
   "pygments_lexer": "ipython3",
   "version": "3.11.5"
  }
 },
 "nbformat": 4,
 "nbformat_minor": 2
}
