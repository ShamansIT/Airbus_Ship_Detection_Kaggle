{
 "cells": [
  {
   "cell_type": "code",
   "execution_count": 32,
   "metadata": {},
   "outputs": [],
   "source": [
    "import keras"
   ]
  },
  {
   "cell_type": "markdown",
   "metadata": {},
   "source": [
    "### Variables"
   ]
  },
  {
   "cell_type": "code",
   "execution_count": 33,
   "metadata": {},
   "outputs": [],
   "source": [
    "CLASSES = 2\n",
    "SAMPLE_SIZE = (384, 384)\n",
    "OUTPUT_SIZE = (768, 768)"
   ]
  },
  {
   "cell_type": "markdown",
   "metadata": {},
   "source": [
    "### Define input neural network model"
   ]
  },
  {
   "cell_type": "code",
   "execution_count": 34,
   "metadata": {},
   "outputs": [],
   "source": [
    "def input_layer():\n",
    "    return keras.layers.Input(shape=SAMPLE_SIZE +(3,))"
   ]
  },
  {
   "cell_type": "markdown",
   "metadata": {},
   "source": [
    "### Describe bloks enkoder format"
   ]
  },
  {
   "cell_type": "code",
   "execution_count": 35,
   "metadata": {},
   "outputs": [],
   "source": [
    "def downsample_block(filters, size, batch_norm = True):\n",
    "    initializer = keras.initializers.GlorotNormal()\n",
    "\n",
    "    result = keras.Sequential()\n",
    "    result.add(keras.layers.Conv2D(filters, size, strides = 2, padding = 'same', \n",
    "                                   kernel_initializer=initializer, use_bias=False))\n",
    "    \n",
    "    if batch_norm:\n",
    "        result.add(keras.layers.BatchNormalization())\n",
    "\n",
    "    result.add(keras.layers.LeakyReLU())\n",
    "    \n",
    "    return result"
   ]
  },
  {
   "cell_type": "markdown",
   "metadata": {},
   "source": [
    "### Format decoder block for neural network"
   ]
  },
  {
   "cell_type": "code",
   "execution_count": 36,
   "metadata": {},
   "outputs": [],
   "source": [
    "def upsample_block(filters, size, dropout = False):\n",
    "    initializer = keras.initializers.GlorotNormal()\n",
    "\n",
    "    result = keras.Sequential()\n",
    "    result.add(keras.layers.Conv2DTranspose(filters, size, strides = 2, padding = 'same', \n",
    "                                   kernel_initializer=initializer, use_bias=False))\n",
    "    \n",
    "    result.add(keras.layers.BatchNormalization())\n",
    "\n",
    "    if dropout:\n",
    "        result.add(keras.layers.Dropout(0.25))\n",
    "        \n",
    "    result.add(keras.layers.ReLU())\n",
    "    \n",
    "    return result"
   ]
  },
  {
   "cell_type": "markdown",
   "metadata": {},
   "source": [
    "### Define output neural network model"
   ]
  },
  {
   "cell_type": "code",
   "execution_count": 37,
   "metadata": {},
   "outputs": [],
   "source": [
    "def output_layer(size):\n",
    "    initializer = keras.initializers.GlorotNormal()\n",
    "    return keras.layers.Conv2DTranspose(CLASSES, size, strides=2, padding='same', kernel_initializer=initializer,\n",
    "                                        activation= 'sigmoid')"
   ]
  },
  {
   "cell_type": "markdown",
   "metadata": {},
   "source": [
    "### Create stack layers"
   ]
  },
  {
   "cell_type": "code",
   "execution_count": 38,
   "metadata": {},
   "outputs": [],
   "source": [
    "inp_layer = input_layer()\n",
    "\n",
    "downsample_stack = [\n",
    "    downsample_block(64, 4, batch_norm = False),\n",
    "    downsample_block(128, 4),\n",
    "    downsample_block(256, 4),\n",
    "    downsample_block(512, 4),\n",
    "    downsample_block(512, 4),\n",
    "    downsample_block(512, 4),\n",
    "    downsample_block(512, 4),\n",
    "]\n",
    "\n",
    "upsample_stack = [\n",
    "    upsample_block(512, 4, dropout = True),\n",
    "    upsample_block(512, 4, dropout = True),\n",
    "    upsample_block(512, 4, dropout = True),\n",
    "    upsample_block(256, 4),\n",
    "    upsample_block(128, 4),\n",
    "    upsample_block(64, 4),\n",
    "]\n",
    "\n",
    "out_layer = output_layer(4)"
   ]
  },
  {
   "cell_type": "markdown",
   "metadata": {},
   "source": [
    "### Skip connection realization"
   ]
  },
  {
   "cell_type": "code",
   "execution_count": 39,
   "metadata": {},
   "outputs": [],
   "source": [
    "x = inp_layer\n",
    "\n",
    "downsample_skips = []\n",
    "\n",
    "for block in downsample_stack:\n",
    "    x = block(x)\n",
    "    downsample_skips.append(x)\n",
    "\n",
    "downsample_skips = reversed(downsample_skips[:-1])\n",
    "\n",
    "for up_block, down_block in zip(upsample_stack, downsample_skips):\n",
    "    x = up_block(x)\n",
    "    x = keras.layers.Concatenate()([x, down_block])\n",
    "\n",
    "out_layer = out_layer(x)\n",
    "\n",
    "unet_like = keras.Model(inputs = inp_layer, outputs = out_layer)"
   ]
  }
 ],
 "metadata": {
  "kernelspec": {
   "display_name": "TF",
   "language": "python",
   "name": "python3"
  },
  "language_info": {
   "codemirror_mode": {
    "name": "ipython",
    "version": 3
   },
   "file_extension": ".py",
   "mimetype": "text/x-python",
   "name": "python",
   "nbconvert_exporter": "python",
   "pygments_lexer": "ipython3",
   "version": "3.11.5"
  }
 },
 "nbformat": 4,
 "nbformat_minor": 2
}
